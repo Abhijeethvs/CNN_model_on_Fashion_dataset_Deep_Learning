{
  "cells": [
    {
      "cell_type": "markdown",
      "metadata": {
        "id": "n8UTU7s5GHda"
      },
      "source": [
        "\n",
        "## The Objective -\n",
        "\n",
        "**the task is to build an image classifier with Keras and Convolutional Neural Networks for the Fashion MNIST dataset. This data set includes 10 labels of different clothing types with 28 by 28 *grayscale* images. There is a training set of 60,000 images and 10,000 test images.**\n",
        "\n",
        "    Label\tDescription\n",
        "    0\t    T-shirt/top\n",
        "    1\t    Trouser\n",
        "    2\t    Pullover\n",
        "    3\t    Dress\n",
        "    4\t    Coat\n",
        "    5\t    Sandal\n",
        "    6\t    Shirt\n",
        "    7\t    Sneaker\n",
        "    8\t    Bag\n",
        "    9\t    Ankle boot\n",
        "    \n",
        ""
      ]
    },
    {
      "cell_type": "markdown",
      "source": [
        "## Importing Necessary libraries -\n",
        "\n"
      ],
      "metadata": {
        "id": "Vkm_dr__Gqg5"
      }
    },
    {
      "cell_type": "code",
      "source": [
        "import pandas as pd\n",
        "import numpy as np\n",
        "import matplotlib.pyplot as plt\n",
        "import seaborn as sns\n",
        "\n",
        "%matplotlib inline"
      ],
      "metadata": {
        "id": "4e1ghfx-Gnw_"
      },
      "execution_count": null,
      "outputs": []
    },
    {
      "cell_type": "markdown",
      "metadata": {
        "id": "birqSNQ8GHdd"
      },
      "source": [
        "## Exploring the Data -\n",
        "\n"
      ]
    },
    {
      "cell_type": "code",
      "execution_count": null,
      "metadata": {
        "id": "gRh-XUgMGHde"
      },
      "outputs": [],
      "source": [
        "from tensorflow.keras.datasets import fashion_mnist\n",
        "\n",
        "(X_train, y_train), (X_test, y_test) = fashion_mnist.load_data()"
      ]
    },
    {
      "cell_type": "markdown",
      "metadata": {
        "id": "GJ7Khb-cGHdg"
      },
      "source": [
        "## Visualizing the Data\n",
        "\n",
        "**Using matplotlib to view an image from the data set.**"
      ]
    },
    {
      "cell_type": "code",
      "execution_count": null,
      "metadata": {
        "id": "yr20nFTUGHdh",
        "outputId": "57aecc25-8293-4afe-f153-f427179637da"
      },
      "outputs": [
        {
          "data": {
            "text/plain": [
              "<matplotlib.image.AxesImage at 0x26c7d6ec0a0>"
            ]
          },
          "execution_count": 76,
          "metadata": {},
          "output_type": "execute_result"
        },
        {
          "data": {
            "image/png": "[encoded data removed]",
            "text/plain": [
              "<Figure size 640x480 with 1 Axes>"
            ]
          },
          "metadata": {},
          "output_type": "display_data"
        }
      ],
      "source": [
        "plt.imshow(X_train[0])"
      ]
    },
    {
      "cell_type": "code",
      "execution_count": null,
      "metadata": {
        "id": "AsntUAjmGHdi"
      },
      "outputs": [],
      "source": []
    },
    {
      "cell_type": "markdown",
      "metadata": {
        "id": "0mgfnZgbGHdi"
      },
      "source": [
        "## Preprocessing the Data\n",
        "\n",
        "**Normalizing the X train and X test data by dividing by the max value of the image arrays.**"
      ]
    },
    {
      "cell_type": "code",
      "execution_count": null,
      "metadata": {
        "id": "KvdTTO5vGHdj",
        "outputId": "bc0865b0-907b-4cc9-bd9d-4e1c7860feb6"
      },
      "outputs": [
        {
          "data": {
            "text/plain": [
              "255"
            ]
          },
          "execution_count": 77,
          "metadata": {},
          "output_type": "execute_result"
        }
      ],
      "source": [
        "X_train.max()"
      ]
    },
    {
      "cell_type": "code",
      "execution_count": null,
      "metadata": {
        "id": "dk8q2yAIGHdj"
      },
      "outputs": [],
      "source": [
        "X_train_norm = X_train/255\n",
        "X_test_norm = X_test/255"
      ]
    },
    {
      "cell_type": "markdown",
      "metadata": {
        "id": "cq2SZv8TGHdk"
      },
      "source": [
        "**Reshape the X arrays to include 4 dimensions of the single channel.**"
      ]
    },
    {
      "cell_type": "code",
      "execution_count": null,
      "metadata": {
        "id": "UJIl7epaGHdk",
        "outputId": "4b78ed43-bd4b-4355-a793-b83488c9fa02"
      },
      "outputs": [
        {
          "data": {
            "text/plain": [
              "(10000, 28, 28)"
            ]
          },
          "execution_count": 79,
          "metadata": {},
          "output_type": "execute_result"
        }
      ],
      "source": [
        "X_test_norm.shape"
      ]
    },
    {
      "cell_type": "code",
      "execution_count": null,
      "metadata": {
        "id": "zzGs8l9OGHdl",
        "outputId": "ab1c3113-bce4-41f2-eee3-db67198c072c"
      },
      "outputs": [
        {
          "data": {
            "text/plain": [
              "(60000, 28, 28)"
            ]
          },
          "execution_count": 80,
          "metadata": {},
          "output_type": "execute_result"
        }
      ],
      "source": [
        "X_train_norm.shape"
      ]
    },
    {
      "cell_type": "code",
      "execution_count": null,
      "metadata": {
        "id": "rJ6GD0gnGHdl"
      },
      "outputs": [],
      "source": [
        "X_test_norm = X_test_norm.reshape(10000, 28, 28,1)\n",
        "X_train_norm = X_train_norm.reshape(60000, 28, 28, 1)"
      ]
    },
    {
      "cell_type": "markdown",
      "metadata": {
        "id": "Nlttr8R5GHdm"
      },
      "source": [
        "**Convert the y_train and y_test values to be one-hot encoded for categorical analysis by Keras.**"
      ]
    },
    {
      "cell_type": "code",
      "execution_count": null,
      "metadata": {
        "id": "PZ3x9wizGHdm"
      },
      "outputs": [],
      "source": [
        "from tensorflow.keras.utils import to_categorical"
      ]
    },
    {
      "cell_type": "code",
      "execution_count": null,
      "metadata": {
        "id": "zsT-Api8GHdm"
      },
      "outputs": [],
      "source": [
        "y_train_cat = to_categorical(y_train)"
      ]
    },
    {
      "cell_type": "code",
      "execution_count": null,
      "metadata": {
        "id": "00YePUNDGHdm"
      },
      "outputs": [],
      "source": [
        "y_test_cat = to_categorical(y_test)"
      ]
    },
    {
      "cell_type": "markdown",
      "metadata": {
        "id": "sOBiHjQbGHdn"
      },
      "source": [
        "## Building the Model\n",
        "\n",
        "**Using Keras to create a model consisting Convolution and pooling layer architecture**"
      ]
    },
    {
      "cell_type": "code",
      "execution_count": null,
      "metadata": {
        "id": "EGctz5bmGHdn"
      },
      "outputs": [],
      "source": [
        "from tensorflow.keras.models import Sequential\n",
        "from tensorflow.keras.layers import Dense,Conv2D,Flatten,MaxPool2D"
      ]
    },
    {
      "cell_type": "code",
      "execution_count": null,
      "metadata": {
        "id": "TrKCljpSGHdn"
      },
      "outputs": [],
      "source": [
        "model = Sequential()"
      ]
    },
    {
      "cell_type": "code",
      "execution_count": null,
      "metadata": {
        "id": "lYM_Fo2nGHdo"
      },
      "outputs": [],
      "source": [
        "model.add(Conv2D(filters = 32,kernel_size = (4,4),activation = 'relu',input_shape = (28,28,1)))\n",
        "model.add(MaxPool2D(pool_size = (2,2)))\n",
        "\n",
        "model.add(Flatten())\n",
        "\n",
        "model.add(Dense(units = 128,activation = 'relu'))\n",
        "model.add(Dense(units = 10,activation = 'softmax'))\n",
        "\n",
        "model.compile(loss = 'categorical_crossentropy',optimizer = 'adam',metrics = ['accuracy'])"
      ]
    },
    {
      "cell_type": "code",
      "execution_count": null,
      "metadata": {
        "id": "G-LR9Xk6GHdo",
        "outputId": "951b44d8-b6a5-4435-b6a2-5fe0bbe55cd9"
      },
      "outputs": [
        {
          "name": "stdout",
          "output_type": "stream",
          "text": [
            "Model: \"sequential_3\"\n",
            "_________________________________________________________________\n",
            " Layer (type)                Output Shape              Param #   \n",
            "=================================================================\n",
            " conv2d_5 (Conv2D)           (None, 25, 25, 32)        544       \n",
            "                                                                 \n",
            " max_pooling2d_3 (MaxPoolin  (None, 12, 12, 32)        0         \n",
            " g2D)                                                            \n",
            "                                                                 \n",
            " flatten_3 (Flatten)         (None, 4608)              0         \n",
            "                                                                 \n",
            " dense_6 (Dense)             (None, 128)               589952    \n",
            "                                                                 \n",
            " dense_7 (Dense)             (None, 10)                1290      \n",
            "                                                                 \n",
            "=================================================================\n",
            "Total params: 591786 (2.26 MB)\n",
            "Trainable params: 591786 (2.26 MB)\n",
            "Non-trainable params: 0 (0.00 Byte)\n",
            "_________________________________________________________________\n"
          ]
        }
      ],
      "source": [
        "model.summary()"
      ]
    },
    {
      "cell_type": "markdown",
      "metadata": {
        "id": "1oi_a21NGHdp"
      },
      "source": [
        "### Training the Model\n",
        "**Train/Fit the model on the x_train set and also adding callback functionality**"
      ]
    },
    {
      "cell_type": "code",
      "execution_count": null,
      "metadata": {
        "id": "ibA-rVVUGHdp"
      },
      "outputs": [],
      "source": [
        "from tensorflow.keras.callbacks import EarlyStopping\n"
      ]
    },
    {
      "cell_type": "code",
      "execution_count": null,
      "metadata": {
        "id": "qWeHJZNUGHdp"
      },
      "outputs": [],
      "source": [
        "early_stop = EarlyStopping(monitor = 'val_loss',patience = 2)"
      ]
    },
    {
      "cell_type": "code",
      "execution_count": null,
      "metadata": {
        "id": "a8SO7Da9GHdq",
        "outputId": "8db09a51-b01b-46cd-9ae5-ccfdfe8db135"
      },
      "outputs": [
        {
          "name": "stdout",
          "output_type": "stream",
          "text": [
            "Epoch 1/20\n",
            "1875/1875 [==============================] - 33s 18ms/step - loss: 0.2884 - accuracy: 0.8952 - val_loss: 0.3128 - val_accuracy: 0.8876\n",
            "Epoch 2/20\n",
            "1875/1875 [==============================] - 33s 18ms/step - loss: 0.2383 - accuracy: 0.9125 - val_loss: 0.2760 - val_accuracy: 0.9014\n",
            "Epoch 3/20\n",
            "1875/1875 [==============================] - 36s 19ms/step - loss: 0.2048 - accuracy: 0.9235 - val_loss: 0.2543 - val_accuracy: 0.9107\n",
            "Epoch 4/20\n",
            "1875/1875 [==============================] - 35s 19ms/step - loss: 0.1772 - accuracy: 0.9342 - val_loss: 0.2729 - val_accuracy: 0.9040\n",
            "Epoch 5/20\n",
            "1875/1875 [==============================] - 34s 18ms/step - loss: 0.1527 - accuracy: 0.9439 - val_loss: 0.2592 - val_accuracy: 0.9131\n"
          ]
        },
        {
          "data": {
            "text/plain": [
              "<keras.src.callbacks.History at 0x26c2bf36830>"
            ]
          },
          "execution_count": 94,
          "metadata": {},
          "output_type": "execute_result"
        }
      ],
      "source": [
        "model.fit(X_train_norm,y_train_cat,epochs =20,validation_data=(X_test_norm,y_test_cat),callbacks=[early_stop])"
      ]
    },
    {
      "cell_type": "markdown",
      "metadata": {
        "id": "gC3x7V4TGHdq"
      },
      "source": [
        "### Evaluating the Model\n",
        "\n"
      ]
    },
    {
      "cell_type": "code",
      "execution_count": null,
      "metadata": {
        "id": "79yyMxulGHdq"
      },
      "outputs": [],
      "source": [
        "metrics = pd.DataFrame(model.history.history)"
      ]
    },
    {
      "cell_type": "code",
      "execution_count": null,
      "metadata": {
        "id": "qN25HoZ9GHdq",
        "outputId": "4c102752-42f9-4116-ff46-e47a5521ef1e"
      },
      "outputs": [
        {
          "data": {
            "text/plain": [
              "<Axes: >"
            ]
          },
          "execution_count": 101,
          "metadata": {},
          "output_type": "execute_result"
        },
        {
          "data": {
            "image/png": "[encoded data removed]",
            "text/plain": [
              "<Figure size 640x480 with 1 Axes>"
            ]
          },
          "metadata": {},
          "output_type": "display_data"
        }
      ],
      "source": [
        "metrics[['loss','val_loss']].plot()"
      ]
    },
    {
      "cell_type": "code",
      "execution_count": null,
      "metadata": {
        "id": "2mI1y0HGGHdr",
        "outputId": "e051fa77-6a5d-41fd-b1f3-3d4e84c61e49"
      },
      "outputs": [
        {
          "data": {
            "text/plain": [
              "<Axes: >"
            ]
          },
          "execution_count": 102,
          "metadata": {},
          "output_type": "execute_result"
        },
        {
          "data": {
            "image/png": "[encoded data removed]",
            "text/plain": [
              "<Figure size 640x480 with 1 Axes>"
            ]
          },
          "metadata": {},
          "output_type": "display_data"
        }
      ],
      "source": [
        "metrics[['accuracy','val_accuracy']].plot()"
      ]
    },
    {
      "cell_type": "code",
      "execution_count": null,
      "metadata": {
        "id": "zbzV9xjLGHdr",
        "outputId": "3148e37d-cd53-44de-b91b-3b7d7df675ac"
      },
      "outputs": [
        {
          "name": "stdout",
          "output_type": "stream",
          "text": [
            "313/313 [==============================] - 1s 4ms/step - loss: 0.2592 - accuracy: 0.9131\n"
          ]
        },
        {
          "data": {
            "text/plain": [
              "[0.25923800468444824, 0.913100004196167]"
            ]
          },
          "execution_count": 110,
          "metadata": {},
          "output_type": "execute_result"
        }
      ],
      "source": [
        "model.evaluate(X_test_norm,y_test_cat)"
      ]
    },
    {
      "cell_type": "code",
      "execution_count": null,
      "metadata": {
        "id": "QxmYyO3XGHds",
        "outputId": "10c3a8f9-50d9-4db3-9fd5-5256b0cbdc93"
      },
      "outputs": [
        {
          "data": {
            "text/plain": [
              "['loss', 'accuracy']"
            ]
          },
          "execution_count": 111,
          "metadata": {},
          "output_type": "execute_result"
        }
      ],
      "source": [
        "model.metrics_names"
      ]
    },
    {
      "cell_type": "code",
      "execution_count": null,
      "metadata": {
        "id": "FY-z52mZGHds"
      },
      "outputs": [],
      "source": [
        "from sklearn.metrics import classification_report,confusion_matrix"
      ]
    },
    {
      "cell_type": "code",
      "execution_count": null,
      "metadata": {
        "id": "fLkG-WZdGHds",
        "outputId": "ea65df3c-33f8-4a31-9da7-0691d1092f2b"
      },
      "outputs": [
        {
          "name": "stdout",
          "output_type": "stream",
          "text": [
            "313/313 [==============================] - 1s 4ms/step\n"
          ]
        }
      ],
      "source": [
        "predictions = (model.predict(X_test) > 0.5).astype(\"int32\")"
      ]
    },
    {
      "cell_type": "code",
      "execution_count": null,
      "metadata": {
        "id": "Lgdq0tgYGHdt",
        "outputId": "fa543de8-404f-4147-dd35-70d2c5091e0d"
      },
      "outputs": [
        {
          "name": "stdout",
          "output_type": "stream",
          "text": [
            "              precision    recall  f1-score   support\n",
            "\n",
            "           0       0.91      0.80      0.85      1000\n",
            "           1       0.98      0.98      0.98      1000\n",
            "           2       0.93      0.57      0.71      1000\n",
            "           3       0.96      0.77      0.86      1000\n",
            "           4       0.59      0.95      0.73      1000\n",
            "           5       0.97      0.98      0.97      1000\n",
            "           6       0.67      0.69      0.68      1000\n",
            "           7       0.97      0.95      0.96      1000\n",
            "           8       0.96      0.99      0.97      1000\n",
            "           9       0.96      0.97      0.96      1000\n",
            "\n",
            "   micro avg       0.87      0.87      0.87     10000\n",
            "   macro avg       0.89      0.87      0.87     10000\n",
            "weighted avg       0.89      0.87      0.87     10000\n",
            " samples avg       0.87      0.87      0.87     10000\n",
            "\n"
          ]
        }
      ],
      "source": [
        "print(classification_report(y_test_cat,predictions))"
      ]
    },
    {
      "cell_type": "markdown",
      "metadata": {
        "id": "6n8xoe8sGHdt"
      },
      "source": [
        "### The model performed quite well in segregating different classes with an accuracy of 91%."
      ]
    }
  ],
  "metadata": {
    "kernelspec": {
      "display_name": "Python 3 (ipykernel)",
      "language": "python",
      "name": "python3"
    },
    "language_info": {
      "codemirror_mode": {
        "name": "ipython",
        "version": 3
      },
      "file_extension": ".py",
      "mimetype": "text/x-python",
      "name": "python",
      "nbconvert_exporter": "python",
      "pygments_lexer": "ipython3",
      "version": "3.10.9"
    },
    "colab": {
      "provenance": []
    }
  },
  "nbformat": 4,
  "nbformat_minor": 0
}